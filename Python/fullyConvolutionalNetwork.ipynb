{
 "cells": [
  {
   "cell_type": "code",
   "execution_count": 1,
   "metadata": {
    "collapsed": false
   },
   "outputs": [
    {
     "name": "stderr",
     "output_type": "stream",
     "text": [
      "Using TensorFlow backend.\n"
     ]
    }
   ],
   "source": [
    "import keras\n",
    "from keras.models import Sequential\n",
    "from keras.layers import Conv2D, MaxPooling2D, Conv2DTranspose\n",
    "import imageio\n",
    "from PIL import Image\n",
    "import matplotlib.pyplot as plt\n",
    "import numpy as np\n",
    "import scipy.io as sio"
   ]
  },
  {
   "cell_type": "code",
   "execution_count": 2,
   "metadata": {
    "collapsed": true
   },
   "outputs": [],
   "source": [
    "# Turn inFile into a one hot label\n",
    "def createOneHot(inFile,numberOfClasses):\n",
    "    outFile = np.zeros((inFile.shape[0],inFile.shape[1], numberOfClasses));\n",
    "    for i in range(0,inFile.shape[0]):\n",
    "        for j in range(0,inFile.shape[1]):\n",
    "            outFile[i,j,inFile[i,j]] = 1;\n",
    "    return outFile;"
   ]
  },
  {
   "cell_type": "code",
   "execution_count": 70,
   "metadata": {
    "collapsed": false
   },
   "outputs": [],
   "source": [
    "# Turn 41 orthomosaics into one array. \n",
    "def returnOrthomosaicArray(imagePath1,imagePath2):\n",
    "    temp= imageio.imread(imagePath1 + '1.png');\n",
    "    inputData = np.zeros( (temp.shape[0],temp.shape[1],inputChannels) )\n",
    "    for i in range(1,25):\n",
    "        temp= imageio.imread(imagePath1 + str(i) + '.png');\n",
    "        inputData[:,:,i] = temp[:,:,0];\n",
    "    for i in range(1,16):\n",
    "        temp= imageio.imread(imagePath2 + str(i) + '.png');\n",
    "        inputData[:,:,i+25] = temp[:,:,0];\n",
    "    return inputData"
   ]
  },
  {
   "cell_type": "code",
   "execution_count": 114,
   "metadata": {
    "collapsed": false
   },
   "outputs": [],
   "source": [
    "def makeDimensionsEven(inArray):\n",
    "    if inArray.shape[0] % 2 != 0:\n",
    "        middleArray = np.append(inArray, np.zeros((1,inArray.shape[1])), axis=0)\n",
    "    else:\n",
    "        middleArray = inArray\n",
    "    if middleArray.shape[1] % 2 != 0:\n",
    "        outArray = np.append(middleArray, np.zeros((middleArray.shape[0],1)), axis=1)\n",
    "    else:\n",
    "        outArray = middleArray;\n",
    "    return outArray;"
   ]
  },
  {
   "cell_type": "code",
   "execution_count": null,
   "metadata": {
    "collapsed": true
   },
   "outputs": [],
   "source": [
    "def loadData(pathArray):\n",
    "    # each row of pathArray belongs to one dataset and has pathNIR, pathVIS, pathLabel\n",
    "    #trainDataIn = np.load('trainingData.npy');\n",
    "    outData = [];\n",
    "    temp = returnOrthomosaicArray(pathArray[0,0],pathArray[0,1]);\n",
    "    outData.append(temp) \n",
    "    \n",
    "    \n",
    "    temp = sio.loadmat('trainingLabels.mat');\n",
    "    trainLabelsIn = temp['labeledPicture'];\n",
    "    trainOneHotLabels = createOneHot(trainLabelsIn, 9);\n",
    "    trainOneHotLabelsDim0 = np.expand_dims(trainOneHotLabels,axis=0)\n",
    "    "
   ]
  },
  {
   "cell_type": "markdown",
   "metadata": {},
   "source": [
    "model = Sequential([\n",
    "    Conv2D(64, 5, input_shape=inputDataShape, activation='relu'),\n",
    "    MaxPooling2D(),\n",
    "    Conv2D(128, 5, activation='relu'),\n",
    "    MaxPooling2D(),\n",
    "    Conv2DTranspose(128, 6, strides=2, padding='valid', activation='relu'),\n",
    "    Conv2DTranspose(64, 6, strides=2, activation='relu'),\n",
    "    Conv2D(amountOfClasses, (1,1), activation='softmax')\n",
    "])"
   ]
  },
  {
   "cell_type": "code",
   "execution_count": 68,
   "metadata": {
    "collapsed": false
   },
   "outputs": [],
   "source": [
    "imagePath1 = '/Volumes/mac_jannic_2017/thanujan/Datasets/Ximea_Tamron/20170622/Orthomosaics/Band';\n",
    "imagePath2 = '/Volumes/mac_jannic_2017/thanujan/Datasets/Ximea_Tamron/20170622/VIS_Orthomosaics/Band';\n",
    "labelpath = '/Volumes/mac_jannic_2017/thanujan/Datasets/labeledOrthomosaics';\n",
    "amountOfClasses = 9;\n",
    "inputChannels = 41;\n",
    "#inputDataShape = (1082,1406,41);\n",
    "#inputDataShape = (2000,1500,41);\n",
    "\n",
    "model = Sequential([\n",
    "    Conv2D(64, 5, input_shape=(None, None, 41), activation='relu'),\n",
    "    MaxPooling2D(),\n",
    "    Conv2DTranspose(64, 6, strides=2, activation='relu'),\n",
    "    Conv2D(amountOfClasses, (1,1), activation='softmax')\n",
    "])\n",
    "\n",
    "model.compile(optimizer='adagrad',\n",
    "              loss='categorical_crossentropy',\n",
    "              metrics=['accuracy']);"
   ]
  },
  {
   "cell_type": "code",
   "execution_count": 12,
   "metadata": {
    "collapsed": false
   },
   "outputs": [],
   "source": [
    "# Load the training data and labels\n",
    "\n"
   ]
  },
  {
   "cell_type": "code",
   "execution_count": 48,
   "metadata": {
    "collapsed": false
   },
   "outputs": [
    {
     "name": "stdout",
     "output_type": "stream",
     "text": [
      "_________________________________________________________________\n",
      "Layer (type)                 Output Shape              Param #   \n",
      "=================================================================\n",
      "conv2d_45 (Conv2D)           (None, None, None, 64)    65664     \n",
      "_________________________________________________________________\n",
      "max_pooling2d_27 (MaxPooling (None, None, None, 64)    0         \n",
      "_________________________________________________________________\n",
      "conv2d_transpose_28 (Conv2DT (None, None, None, 64)    147520    \n",
      "_________________________________________________________________\n",
      "conv2d_46 (Conv2D)           (None, None, None, 9)     585       \n",
      "=================================================================\n",
      "Total params: 213,769\n",
      "Trainable params: 213,769\n",
      "Non-trainable params: 0\n",
      "_________________________________________________________________\n"
     ]
    }
   ],
   "source": [
    "model.summary()"
   ]
  },
  {
   "cell_type": "code",
   "execution_count": 49,
   "metadata": {
    "collapsed": false
   },
   "outputs": [
    {
     "name": "stdout",
     "output_type": "stream",
     "text": [
      "Epoch 1/5\n",
      "1/1 [==============================] - 60s 60s/step - loss: 4.5744 - acc: 0.7540\n",
      "Epoch 2/5\n",
      "1/1 [==============================] - 58s 58s/step - loss: 4.4902 - acc: 0.7540\n",
      "Epoch 3/5\n",
      "1/1 [==============================] - 56s 56s/step - loss: 4.4006 - acc: 0.7540\n",
      "Epoch 4/5\n",
      "1/1 [==============================] - 60s 60s/step - loss: 4.3129 - acc: 0.7540\n",
      "Epoch 5/5\n",
      "1/1 [==============================] - 62s 62s/step - loss: 4.2349 - acc: 0.7540\n"
     ]
    }
   ],
   "source": [
    "from keras.callbacks import EarlyStopping\n",
    "early_stopping = EarlyStopping(monitor='val_loss', patience=2);\n",
    "\n",
    "model.fit(trainData, trainOneHotLabelsDim0, epochs=5,callbacks=[early_stopping]);\n"
   ]
  },
  {
   "cell_type": "code",
   "execution_count": 51,
   "metadata": {
    "collapsed": false
   },
   "outputs": [],
   "source": [
    "model.save('networkModels/FCN-None-None-conv5.h5')"
   ]
  },
  {
   "cell_type": "code",
   "execution_count": 139,
   "metadata": {
    "collapsed": false
   },
   "outputs": [
    {
     "name": "stdout",
     "output_type": "stream",
     "text": [
      "(3, 3)\n"
     ]
    },
    {
     "ename": "AxisError",
     "evalue": "axis 2 is out of bounds for array of dimension 2",
     "output_type": "error",
     "traceback": [
      "\u001b[0;31m---------------------------------------------------------------------------\u001b[0m",
      "\u001b[0;31mAxisError\u001b[0m                                 Traceback (most recent call last)",
      "\u001b[0;32m<ipython-input-139-de66c9c8a087>\u001b[0m in \u001b[0;36m<module>\u001b[0;34m()\u001b[0m\n\u001b[1;32m      3\u001b[0m \u001b[0mnp\u001b[0m\u001b[0;34m.\u001b[0m\u001b[0mexpand_dims\u001b[0m\u001b[0;34m(\u001b[0m\u001b[0mb\u001b[0m\u001b[0;34m,\u001b[0m\u001b[0maxis\u001b[0m\u001b[0;34m=\u001b[0m\u001b[0;36m2\u001b[0m\u001b[0;34m)\u001b[0m\u001b[0;34m\u001b[0m\u001b[0m\n\u001b[1;32m      4\u001b[0m \u001b[0mprint\u001b[0m\u001b[0;34m(\u001b[0m\u001b[0mb\u001b[0m\u001b[0;34m.\u001b[0m\u001b[0mshape\u001b[0m\u001b[0;34m)\u001b[0m\u001b[0;34m\u001b[0m\u001b[0m\n\u001b[0;32m----> 5\u001b[0;31m \u001b[0mb\u001b[0m\u001b[0;34m=\u001b[0m \u001b[0mnp\u001b[0m\u001b[0;34m.\u001b[0m\u001b[0mappend\u001b[0m\u001b[0;34m(\u001b[0m\u001b[0ma\u001b[0m\u001b[0;34m,\u001b[0m\u001b[0mb\u001b[0m\u001b[0;34m,\u001b[0m\u001b[0maxis\u001b[0m\u001b[0;34m=\u001b[0m\u001b[0;36m2\u001b[0m\u001b[0;34m)\u001b[0m\u001b[0;34m\u001b[0m\u001b[0m\n\u001b[0m\u001b[1;32m      6\u001b[0m \u001b[0mb\u001b[0m\u001b[0;34m\u001b[0m\u001b[0m\n",
      "\u001b[0;32m/Users/jveith/anaconda/lib/python3.6/site-packages/numpy/lib/function_base.py\u001b[0m in \u001b[0;36mappend\u001b[0;34m(arr, values, axis)\u001b[0m\n\u001b[1;32m   5164\u001b[0m         \u001b[0mvalues\u001b[0m \u001b[0;34m=\u001b[0m \u001b[0mravel\u001b[0m\u001b[0;34m(\u001b[0m\u001b[0mvalues\u001b[0m\u001b[0;34m)\u001b[0m\u001b[0;34m\u001b[0m\u001b[0m\n\u001b[1;32m   5165\u001b[0m         \u001b[0maxis\u001b[0m \u001b[0;34m=\u001b[0m \u001b[0marr\u001b[0m\u001b[0;34m.\u001b[0m\u001b[0mndim\u001b[0m\u001b[0;34m-\u001b[0m\u001b[0;36m1\u001b[0m\u001b[0;34m\u001b[0m\u001b[0m\n\u001b[0;32m-> 5166\u001b[0;31m     \u001b[0;32mreturn\u001b[0m \u001b[0mconcatenate\u001b[0m\u001b[0;34m(\u001b[0m\u001b[0;34m(\u001b[0m\u001b[0marr\u001b[0m\u001b[0;34m,\u001b[0m \u001b[0mvalues\u001b[0m\u001b[0;34m)\u001b[0m\u001b[0;34m,\u001b[0m \u001b[0maxis\u001b[0m\u001b[0;34m=\u001b[0m\u001b[0maxis\u001b[0m\u001b[0;34m)\u001b[0m\u001b[0;34m\u001b[0m\u001b[0m\n\u001b[0m",
      "\u001b[0;31mAxisError\u001b[0m: axis 2 is out of bounds for array of dimension 2"
     ]
    }
   ],
   "source": [
    "a=np.ones((2,2))\n",
    "b=np.zeros((3,3))\n",
    "np.expand_dims(b,axis=2)\n",
    "print(b.shape)\n",
    "b= np.append(a,b,axis=2)\n",
    "b"
   ]
  },
  {
   "cell_type": "code",
   "execution_count": null,
   "metadata": {
    "collapsed": true
   },
   "outputs": [],
   "source": []
  }
 ],
 "metadata": {
  "kernelspec": {
   "display_name": "Python 3",
   "language": "python",
   "name": "python3"
  },
  "language_info": {
   "codemirror_mode": {
    "name": "ipython",
    "version": 3
   },
   "file_extension": ".py",
   "mimetype": "text/x-python",
   "name": "python",
   "nbconvert_exporter": "python",
   "pygments_lexer": "ipython3",
   "version": "3.6.0"
  }
 },
 "nbformat": 4,
 "nbformat_minor": 2
}
