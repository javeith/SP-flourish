{
 "cells": [
  {
   "cell_type": "code",
   "execution_count": null,
   "metadata": {
    "collapsed": true
   },
   "outputs": [],
   "source": [
    "modelBasicNN = Sequential([\n",
    "    Conv2D(20, (1,1), input_shape=(imageSize[0], imageSize[1], inputChannels), activation='relu'),\n",
    "    Conv2D(amountOfClasses, (1,1), activation='softmax')\n",
    "])\n",
    "modelBasicNN.summary()\n",
    "modelBasicNN.compile(optimizer='adagrad', loss='categorical_crossentropy', metrics=['accuracy']);"
   ]
  },
  {
   "cell_type": "code",
   "execution_count": null,
   "metadata": {
    "collapsed": true
   },
   "outputs": [],
   "source": [
    "model = Sequential([\n",
    "    Conv2D(20, 5, input_shape=(imageSize[0], imageSize[1], inputChannels), activation='relu'),\n",
    "    MaxPooling2D(),\n",
    "    Conv2DTranspose(20, 6, strides=2, activation='relu'),\n",
    "    Conv2D(amountOfClasses, (1,1), activation='softmax')\n",
    "])\n",
    "model.summary()\n",
    "model.compile(optimizer='adagrad', loss='categorical_crossentropy', metrics=['accuracy']);"
   ]
  },
  {
   "cell_type": "code",
   "execution_count": null,
   "metadata": {
    "collapsed": true
   },
   "outputs": [],
   "source": [
    "#Network plotting stuff. not working yet\n",
    "import pydot_ng as pydot\n",
    "import graphviz\n",
    "from keras.utils import plot_model\n",
    "plot_model(modelBasicNN, to_file='model2Conv.png')\n",
    "\n",
    "import pydot_ng as pydot\n",
    "import graphviz\n",
    "print(pydot.find_graphviz())"
   ]
  },
  {
   "cell_type": "code",
   "execution_count": null,
   "metadata": {
    "collapsed": true
   },
   "outputs": [],
   "source": [
    "testImage = loadOneOrthomosaic('/Volumes/mac_jannic_2017/thanujan/Datasets/xFcnClassifier/testData/FIP/20170531/');\n",
    "testLabelPredict = modelBasicNN.predict(testImage);\n",
    "testLabelPredictCat = oneHotToCategorical(testLabelPredict,.1);\n",
    "\n",
    "x=804\n",
    "y=800\n",
    "print(testLabelPredict[0,x,y,:])\n",
    "print(testLabelPredictCat[x,y])"
   ]
  },
  {
   "cell_type": "code",
   "execution_count": null,
   "metadata": {
    "collapsed": true
   },
   "outputs": [],
   "source": [
    "modelBasicNN = Sequential([\n",
    "    Conv2D(20, (1,1), input_shape=(imageSize[0], imageSize[1], inputChannels), activation='relu'),\n",
    "    Conv2D(amountOfClasses, (1,1), activation='softmax')\n",
    "])\n",
    "modelBasicNN.summary()\n",
    "modelBasicNN.compile(optimizer='adagrad', loss='categorical_crossentropy', metrics=['accuracy']);"
   ]
  },
  {
   "cell_type": "code",
   "execution_count": null,
   "metadata": {
    "collapsed": true
   },
   "outputs": [],
   "source": [
    "from keras.losses import categorical_crossentropy\n",
    "import keras.backend as K\n",
    "\n",
    "def weighted_categorical_crossentropy_fcn_loss(y_true, y_pred):\n",
    "    # y_true is a matrix of weight-hot vectors (like 1-hot, but they have weights instead of 1s)\n",
    "    y_true_mask = K.clip(y_true, 0.0, 1.0)  # [0 0 W 0] -> [0 0 1 0] where W >= 1.\n",
    "    cce = categorical_crossentropy(y_pred, y_true_mask)  # one dim less (each 1hot vector -> float number)\n",
    "    y_true_weights_maxed = K.max(y_true, axis=-1)  # [0 120 0 0] -> 120 - get weight for each weight-hot vector\n",
    "    wcce = cce * y_true_weights_maxed\n",
    "    return K.sum(wcce)"
   ]
  }
 ],
 "metadata": {
  "kernelspec": {
   "display_name": "Python 3",
   "language": "python",
   "name": "python3"
  },
  "language_info": {
   "codemirror_mode": {
    "name": "ipython",
    "version": 3
   },
   "file_extension": ".py",
   "mimetype": "text/x-python",
   "name": "python",
   "nbconvert_exporter": "python",
   "pygments_lexer": "ipython3",
   "version": "3.6.3"
  }
 },
 "nbformat": 4,
 "nbformat_minor": 2
}
